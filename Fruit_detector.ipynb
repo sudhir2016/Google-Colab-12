{
  "nbformat": 4,
  "nbformat_minor": 0,
  "metadata": {
    "colab": {
      "name": "Fruit_detector.ipynb",
      "provenance": [],
      "collapsed_sections": [],
      "machine_shape": "hm",
      "include_colab_link": true
    },
    "kernelspec": {
      "name": "python3",
      "display_name": "Python 3"
    },
    "accelerator": "GPU"
  },
  "cells": [
    {
      "cell_type": "markdown",
      "metadata": {
        "id": "view-in-github",
        "colab_type": "text"
      },
      "source": [
        "<a href=\"https://colab.research.google.com/github/sudhir2016/Google-Colab-12/blob/master/Fruit_detector.ipynb\" target=\"_parent\"><img src=\"https://colab.research.google.com/assets/colab-badge.svg\" alt=\"Open In Colab\"/></a>"
      ]
    },
    {
      "cell_type": "markdown",
      "metadata": {
        "id": "VzPujIJZk-st",
        "colab_type": "text"
      },
      "source": [
        "Load Python, TensorFlow and Keras libraries."
      ]
    },
    {
      "cell_type": "code",
      "metadata": {
        "id": "ISoa7WM2k5xH",
        "colab_type": "code",
        "colab": {}
      },
      "source": [
        "import tensorflow as tf\n",
        "from tensorflow import keras\n",
        "import numpy as np\n",
        "import matplotlib.image as im\n",
        "import matplotlib.pyplot as plt\n",
        "from keras.preprocessing.image import load_img\n",
        "import cv2\n",
        "import glob\n",
        "import os\n",
        "from sklearn.model_selection import train_test_split\n",
        "from tensorflow.keras.preprocessing.image import ImageDataGenerator"
      ],
      "execution_count": 0,
      "outputs": []
    },
    {
      "cell_type": "code",
      "metadata": {
        "id": "k2e6BH8xpgc7",
        "colab_type": "code",
        "colab": {}
      },
      "source": [
        "from tensorflow.keras.applications import VGG16\n",
        "from tensorflow.keras.layers import Input\n",
        "from tensorflow.keras.layers import AveragePooling2D\n",
        "from tensorflow.keras.layers import Flatten\n",
        "from tensorflow.keras.layers import Dense\n",
        "from tensorflow.keras.layers import Dropout\n",
        "from tensorflow.keras.models import Model\n",
        "from tensorflow.keras.layers import GlobalAveragePooling2D\n",
        "from tensorflow.keras.models import load_model"
      ],
      "execution_count": 0,
      "outputs": []
    },
    {
      "cell_type": "markdown",
      "metadata": {
        "id": "amLV15n3BQMU",
        "colab_type": "text"
      },
      "source": [
        "Load Fruit Images dataset."
      ]
    },
    {
      "cell_type": "code",
      "metadata": {
        "id": "n5oU-GwutoBA",
        "colab_type": "code",
        "colab": {}
      },
      "source": [
        "!git clone https://github.com/Horea94/Fruit-Images-Dataset"
      ],
      "execution_count": 0,
      "outputs": []
    },
    {
      "cell_type": "markdown",
      "metadata": {
        "id": "SHeYwxEbnz_S",
        "colab_type": "text"
      },
      "source": [
        "Create empty lists for fruit images (X) and labels(Y) for testing."
      ]
    },
    {
      "cell_type": "code",
      "metadata": {
        "id": "aCjU-gHS973W",
        "colab_type": "code",
        "colab": {}
      },
      "source": [
        "X=[]\n",
        "Y=[]"
      ],
      "execution_count": 0,
      "outputs": []
    },
    {
      "cell_type": "markdown",
      "metadata": {
        "id": "Ad8L_OicGoBh",
        "colab_type": "text"
      },
      "source": [
        "Create and sort list of label names."
      ]
    },
    {
      "cell_type": "code",
      "metadata": {
        "id": "gORpYVNTSMqd",
        "colab_type": "code",
        "colab": {}
      },
      "source": [
        "label=[]"
      ],
      "execution_count": 0,
      "outputs": []
    },
    {
      "cell_type": "code",
      "metadata": {
        "id": "91A0RfdmUJDb",
        "colab_type": "code",
        "colab": {}
      },
      "source": [
        "for name in glob.glob('/content/Fruit-Images-Dataset/Training/*'):\n",
        "  name1=name[39:]\n",
        "  label.append(name1)"
      ],
      "execution_count": 0,
      "outputs": []
    },
    {
      "cell_type": "code",
      "metadata": {
        "id": "WCh0GSTJmfw3",
        "colab_type": "code",
        "colab": {}
      },
      "source": [
        "print(label)"
      ],
      "execution_count": 0,
      "outputs": []
    },
    {
      "cell_type": "code",
      "metadata": {
        "id": "DiyX7AEgnc4O",
        "colab_type": "code",
        "colab": {}
      },
      "source": [
        "len(label)"
      ],
      "execution_count": 0,
      "outputs": []
    },
    {
      "cell_type": "code",
      "metadata": {
        "id": "YZcukgEmK4UA",
        "colab_type": "code",
        "colab": {}
      },
      "source": [
        "label.sort()"
      ],
      "execution_count": 0,
      "outputs": []
    },
    {
      "cell_type": "code",
      "metadata": {
        "id": "5FvZn0nhbevG",
        "colab_type": "code",
        "colab": {}
      },
      "source": [
        "print(label)"
      ],
      "execution_count": 0,
      "outputs": []
    },
    {
      "cell_type": "markdown",
      "metadata": {
        "id": "Nist7L4AHXMe",
        "colab_type": "text"
      },
      "source": [
        "Path for fruit dataset."
      ]
    },
    {
      "cell_type": "code",
      "metadata": {
        "id": "jSnUXZDrG8cH",
        "colab_type": "code",
        "colab": {}
      },
      "source": [
        "a='/content/Fruit-Images-Dataset/Training'\n",
        "c='*.*'"
      ],
      "execution_count": 0,
      "outputs": []
    },
    {
      "cell_type": "markdown",
      "metadata": {
        "id": "HN1wd16IIDTC",
        "colab_type": "text"
      },
      "source": [
        "Load and preprocess small set of 50 images, 5 of each category for test dataset."
      ]
    },
    {
      "cell_type": "code",
      "metadata": {
        "id": "iW9tWaQM2BiF",
        "colab_type": "code",
        "colab": {}
      },
      "source": [
        "for i in range (131):\n",
        "  b=label[i]\n",
        "  path=os.path.join(a,b,c)\n",
        "  image1= [im.imread(file) for file in glob.glob(path)] \n",
        "  for j in range (5):\n",
        "    image2 = cv2.resize(image1[j], dsize=(100,100), interpolation=cv2.INTER_CUBIC)\n",
        "    X.append(image2)\n",
        "    out=i\n",
        "    Y.append(out)"
      ],
      "execution_count": 0,
      "outputs": []
    },
    {
      "cell_type": "code",
      "metadata": {
        "id": "H6ne1viz5HDY",
        "colab_type": "code",
        "colab": {}
      },
      "source": [
        "len(X)"
      ],
      "execution_count": 0,
      "outputs": []
    },
    {
      "cell_type": "code",
      "metadata": {
        "id": "7rt-W8Es5LQg",
        "colab_type": "code",
        "colab": {}
      },
      "source": [
        "X=np.array(X)/255.0"
      ],
      "execution_count": 0,
      "outputs": []
    },
    {
      "cell_type": "code",
      "metadata": {
        "id": "b8s_j1Ju5QOV",
        "colab_type": "code",
        "colab": {}
      },
      "source": [
        "Y=np.array(Y)"
      ],
      "execution_count": 0,
      "outputs": []
    },
    {
      "cell_type": "markdown",
      "metadata": {
        "id": "MfwEMS5nIYXy",
        "colab_type": "text"
      },
      "source": [
        "Set up train and validation dataset generators as flow from directory."
      ]
    },
    {
      "cell_type": "code",
      "metadata": {
        "id": "dL0gezncb3jA",
        "colab_type": "code",
        "colab": {}
      },
      "source": [
        "train_datagen=ImageDataGenerator(rescale=1./255)"
      ],
      "execution_count": 0,
      "outputs": []
    },
    {
      "cell_type": "code",
      "metadata": {
        "id": "e9RUfSx8e-Kn",
        "colab_type": "code",
        "outputId": "48766e8a-eb07-45c7-d320-451d1f41ed80",
        "colab": {
          "base_uri": "https://localhost:8080/",
          "height": 34
        }
      },
      "source": [
        "train_generator=train_datagen.flow_from_directory('/content/Fruit-Images-Dataset/Training',target_size=(100,100),\n",
        "        batch_size=32,\n",
        "        class_mode='sparse')"
      ],
      "execution_count": 21,
      "outputs": [
        {
          "output_type": "stream",
          "text": [
            "Found 67692 images belonging to 131 classes.\n"
          ],
          "name": "stdout"
        }
      ]
    },
    {
      "cell_type": "code",
      "metadata": {
        "id": "1qAkK_4wIBT7",
        "colab_type": "code",
        "colab": {}
      },
      "source": [
        "validation_datagen=ImageDataGenerator(rescale=1./255)"
      ],
      "execution_count": 0,
      "outputs": []
    },
    {
      "cell_type": "code",
      "metadata": {
        "id": "P-zsTmXWIEPI",
        "colab_type": "code",
        "colab": {}
      },
      "source": [
        "validation_generator=validation_datagen.flow_from_directory('/content/Fruit-Images-Dataset/Test',target_size=(100, 100),\n",
        "        batch_size=32,\n",
        "        class_mode='sparse')"
      ],
      "execution_count": 0,
      "outputs": []
    },
    {
      "cell_type": "code",
      "metadata": {
        "id": "nuJPx5VazRL4",
        "colab_type": "code",
        "colab": {}
      },
      "source": [
        "print(train_generator.class_indices)"
      ],
      "execution_count": 0,
      "outputs": []
    },
    {
      "cell_type": "markdown",
      "metadata": {
        "id": "u_dJDBKf7RP0",
        "colab_type": "text"
      },
      "source": [
        "Build the model"
      ]
    },
    {
      "cell_type": "code",
      "metadata": {
        "id": "cGOvCEEhohNb",
        "colab_type": "code",
        "colab": {}
      },
      "source": [
        "baseModel = VGG16(weights=\"imagenet\", include_top=False,input_shape=(100,100,3))\n",
        "\t"
      ],
      "execution_count": 0,
      "outputs": []
    },
    {
      "cell_type": "code",
      "metadata": {
        "id": "QC1tPMd_ous9",
        "colab_type": "code",
        "colab": {}
      },
      "source": [
        "for layer in baseModel.layers:\n",
        "\tlayer.trainable = False"
      ],
      "execution_count": 0,
      "outputs": []
    },
    {
      "cell_type": "code",
      "metadata": {
        "id": "yuYYBFBzo6r9",
        "colab_type": "code",
        "colab": {}
      },
      "source": [
        "headModel = baseModel.output\n",
        "headModel = GlobalAveragePooling2D() (headModel)\n",
        "headModel = Dense(64, activation=\"relu\")(headModel)\n",
        "headModel = Dense(131, activation=\"softmax\")(headModel)"
      ],
      "execution_count": 0,
      "outputs": []
    },
    {
      "cell_type": "code",
      "metadata": {
        "id": "-BM_UX-UpDfX",
        "colab_type": "code",
        "colab": {}
      },
      "source": [
        "model = Model(inputs=baseModel.input, outputs=headModel)"
      ],
      "execution_count": 0,
      "outputs": []
    },
    {
      "cell_type": "markdown",
      "metadata": {
        "id": "og_KyfW47mzM",
        "colab_type": "text"
      },
      "source": [
        "Compile the model\n"
      ]
    },
    {
      "cell_type": "code",
      "metadata": {
        "id": "kMjQFtK4Ke8s",
        "colab_type": "code",
        "colab": {}
      },
      "source": [
        "model.compile(optimizer='adam',loss='sparse_categorical_crossentropy',metrics=['accuracy'])"
      ],
      "execution_count": 0,
      "outputs": []
    },
    {
      "cell_type": "code",
      "metadata": {
        "id": "8JWa4lJASfFK",
        "colab_type": "code",
        "colab": {}
      },
      "source": [
        "model.summary()"
      ],
      "execution_count": 0,
      "outputs": []
    },
    {
      "cell_type": "markdown",
      "metadata": {
        "id": "plcv-_k47xXI",
        "colab_type": "text"
      },
      "source": [
        "Train the model"
      ]
    },
    {
      "cell_type": "code",
      "metadata": {
        "id": "bo7BPwrPhWrG",
        "colab_type": "code",
        "colab": {}
      },
      "source": [
        "model.fit(train_generator,\n",
        "        steps_per_epoch=2000,\n",
        "        epochs=2,validation_data=validation_generator,validation_steps=600)"
      ],
      "execution_count": 0,
      "outputs": []
    },
    {
      "cell_type": "markdown",
      "metadata": {
        "id": "IWNcH8ub7591",
        "colab_type": "text"
      },
      "source": [
        "Evaluate the model"
      ]
    },
    {
      "cell_type": "code",
      "metadata": {
        "id": "BwceFgG28XhI",
        "colab_type": "code",
        "colab": {}
      },
      "source": [
        "model.evaluate(X,Y)"
      ],
      "execution_count": 0,
      "outputs": []
    },
    {
      "cell_type": "markdown",
      "metadata": {
        "id": "EQChm_M48Daq",
        "colab_type": "text"
      },
      "source": [
        "Make predictions"
      ]
    },
    {
      "cell_type": "code",
      "metadata": {
        "id": "ra0qLga0VwmW",
        "colab_type": "code",
        "colab": {}
      },
      "source": [
        "p=model.predict(X)"
      ],
      "execution_count": 0,
      "outputs": []
    },
    {
      "cell_type": "markdown",
      "metadata": {
        "id": "Aw-u4kVS8LMd",
        "colab_type": "text"
      },
      "source": [
        "Verify prediction"
      ]
    },
    {
      "cell_type": "markdown",
      "metadata": {
        "id": "miZFA1vCvMyK",
        "colab_type": "text"
      },
      "source": [
        "Make a selection"
      ]
    },
    {
      "cell_type": "code",
      "metadata": {
        "id": "jRsWWLxKvAM1",
        "colab_type": "code",
        "colab": {}
      },
      "source": [
        "s=200\n",
        "pred=p[s]"
      ],
      "execution_count": 0,
      "outputs": []
    },
    {
      "cell_type": "code",
      "metadata": {
        "id": "amKY8iNmkvfi",
        "colab_type": "code",
        "colab": {}
      },
      "source": [
        "m1=np.argmax(pred)\n",
        "l1=label[m1]\n",
        "print('prediction :',l1)"
      ],
      "execution_count": 0,
      "outputs": []
    },
    {
      "cell_type": "code",
      "metadata": {
        "id": "u_m7ddQfubZB",
        "colab_type": "code",
        "colab": {}
      },
      "source": [
        "m2=Y[s]\n",
        "l2=label[m2]\n",
        "print('actual :',l2)"
      ],
      "execution_count": 0,
      "outputs": []
    },
    {
      "cell_type": "code",
      "metadata": {
        "id": "IkFoWe-LXkzg",
        "colab_type": "code",
        "colab": {}
      },
      "source": [
        "plt.imshow(X[s])"
      ],
      "execution_count": 0,
      "outputs": []
    }
  ]
}